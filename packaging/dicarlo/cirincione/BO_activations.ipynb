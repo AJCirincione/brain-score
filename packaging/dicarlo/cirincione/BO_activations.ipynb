{
 "cells": [
  {
   "cell_type": "code",
   "execution_count": 1,
   "metadata": {},
   "outputs": [
    {
     "name": "stderr",
     "output_type": "stream",
     "text": [
      "/braintree/home/andrewci/anaconda3/lib/python3.7/site-packages/pandas/compat/_optional.py:138: UserWarning: Pandas requires version '2.7.0' or newer of 'numexpr' (version '2.6.8' currently installed).\n",
      "  warnings.warn(msg, UserWarning)\n",
      "/braintree/home/andrewci/anaconda3/lib/python3.7/site-packages/dask/config.py:161: YAMLLoadWarning: calling yaml.load() without Loader=... is deprecated, as the default Loader is unsafe. Please read https://msg.pyyaml.org/load for full details.\n",
      "  data = yaml.load(f.read()) or {}\n",
      "/braintree/home/andrewci/anaconda3/lib/python3.7/site-packages/distributed/config.py:20: YAMLLoadWarning: calling yaml.load() without Loader=... is deprecated, as the default Loader is unsafe. Please read https://msg.pyyaml.org/load for full details.\n",
      "  defaults = yaml.load(f)\n",
      "/braintree/home/andrewci/brain-score/brainscore/metrics/__init__.py:37: FutureWarning: xarray subclass Score should explicitly define __slots__\n",
      "  class Score(DataAssembly):\n"
     ]
    }
   ],
   "source": [
    "import numpy as np\n",
    "import sys\n",
    "sys.path.insert(1, '/braintree/home/andrewci/brain-score/')\n",
    "from candidate_models.model_commitments import brain_translated_pool\n",
    "#sys.path.insert(1, '/braintree/home/andrewci/brain-score/brainscore/benchmarks')\n",
    "from cirincione_stim_common import load_stim_info\n",
    "from brainscore.benchmarks.screen import place_on_screen\n",
    "from brainscore.benchmarks._properties_common import get_stimulus_position, \\\n",
    "    filter_receptive_fields, firing_rates_affine, record_from_model, get_firing_rates, get_stimulus_position, filter_receptive_fields\n",
    "import matplotlib.pyplot as plt\n",
    "from cirincione2022_zhou2000_TESTING import modified_get_firing_rates, modified_record_from_model, load_model_and_BO_stimulus, BO_optimization_test, BO_standard_test"
   ]
  },
  {
   "cell_type": "code",
   "execution_count": 2,
   "metadata": {},
   "outputs": [],
   "source": [
    "optim_test_dir = '/braintree/data2/active/users/andrewci/stimulus_sets/dicarlo.Cirincione2022_border_ownership_optimization_test'\n",
    "standard_test_dir = '/braintree/data2/active/users/andrewci/stimulus_sets/dicarlo.Cirincione2022_border_ownership_standard_test'\n",
    "BO_STIM_NAME = 'dicarlo.Cirincione2022_border_ownership_standard_test'\n",
    "BO_OPTIM_NAME = 'dicarlo.Cirincione2022_border_ownership_optimization_test'\n",
    "#BLANK_STIM_NAME = 'dicarlo.Marques2020_blank'"
   ]
  },
  {
   "cell_type": "code",
   "execution_count": 14,
   "metadata": {},
   "outputs": [
    {
     "name": "stderr",
     "output_type": "stream",
     "text": [
      "alexnet is accessed again and reloaded\n"
     ]
    }
   ],
   "source": [
    "model, optimization_test_responses, standard_test_responses = load_model_and_BO_stimulus(BO_OPTIM_NAME=BO_OPTIM_NAME, optim_test_dir=optim_test_dir,\n",
    "            BO_STIM_NAME=BO_STIM_NAME, standard_test_dir=standard_test_dir, model_identifier='alexnet')"
   ]
  },
  {
   "cell_type": "code",
   "execution_count": 18,
   "metadata": {},
   "outputs": [
    {
     "name": "stdout",
     "output_type": "stream",
     "text": [
      "[[14.75369  14.104784]\n",
      " [14.104784 14.75369 ]]\n"
     ]
    }
   ],
   "source": [
    "neuroid_no=11\n",
    "opt_pref_color, opt_pref_width, opt_pref_length, opt_pref_orientation = BO_optimization_test(neuroid_no=neuroid_no, optimization_test_responses=optimization_test_responses)\n",
    "std_A, std_B, std_C, std_D = BO_standard_test(neuroid_no=neuroid_no, standard_test_responses=standard_test_responses, opt_pref_color=opt_pref_color, opt_pref_orientation=opt_pref_orientation)"
   ]
  },
  {
   "cell_type": "code",
   "execution_count": 19,
   "metadata": {},
   "outputs": [
    {
     "name": "stdout",
     "output_type": "stream",
     "text": [
      "(64, 672)\n",
      "5\n",
      "1\n",
      "14.75369\n",
      "14.75369\n",
      "14.104784\n",
      "14.104784\n"
     ]
    }
   ],
   "source": [
    "print(optimization_test_responses.shape)\n",
    "print(opt_pref_color)\n",
    "print(opt_pref_orientation)\n",
    "print(std_A)\n",
    "print(std_B)\n",
    "print(std_C)\n",
    "print(std_D)"
   ]
  }
 ],
 "metadata": {
  "kernelspec": {
   "display_name": "Python 3.7.13 ('base')",
   "language": "python",
   "name": "python3"
  },
  "language_info": {
   "codemirror_mode": {
    "name": "ipython",
    "version": 3
   },
   "file_extension": ".py",
   "mimetype": "text/x-python",
   "name": "python",
   "nbconvert_exporter": "python",
   "pygments_lexer": "ipython3",
   "version": "3.7.13"
  },
  "orig_nbformat": 4,
  "vscode": {
   "interpreter": {
    "hash": "b45cf1a0e83996f7fbf806ae59dce41e174b2e0f35f47dfa31334161ddd5e1da"
   }
  }
 },
 "nbformat": 4,
 "nbformat_minor": 2
}
