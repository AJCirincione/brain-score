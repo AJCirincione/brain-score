{
 "cells": [
  {
   "cell_type": "code",
   "execution_count": 18,
   "metadata": {},
   "outputs": [],
   "source": [
    "import numpy as np\n",
    "import sys\n",
    "sys.path.insert(1, '/braintree/home/andrewci/brain-score/')\n",
    "from candidate_models.model_commitments import brain_translated_pool\n",
    "#sys.path.insert(1, '/braintree/home/andrewci/brain-score/brainscore/benchmarks')\n",
    "from cirincione_stim_common import load_stim_info\n",
    "from brainscore.benchmarks.screen import place_on_screen\n",
    "from brainscore.benchmarks._properties_common import get_stimulus_position, \\\n",
    "    filter_receptive_fields, firing_rates_affine, record_from_model, get_firing_rates, get_stimulus_position, filter_receptive_fields\n",
    "import matplotlib.pyplot as plt\n",
    "from cirincione2022_zhou2000_TESTING import modified_get_firing_rates, modified_record_from_model, load_model_and_BO_stimulus, BO_optimization_and_standard_test"
   ]
  },
  {
   "cell_type": "code",
   "execution_count": 2,
   "metadata": {},
   "outputs": [],
   "source": [
    "optim_test_dir = '/braintree/data2/active/users/andrewci/stimulus_sets/dicarlo.Cirincione2022_border_ownership_optimization_test'\n",
    "standard_test_dir = '/braintree/data2/active/users/andrewci/stimulus_sets/dicarlo.Cirincione2022_border_ownership_standard_test'\n",
    "BO_STIM_NAME = 'dicarlo.Cirincione2022_border_ownership_standard_test'\n",
    "BO_OPTIM_NAME = 'dicarlo.Cirincione2022_border_ownership_optimization_test'\n",
    "#BLANK_STIM_NAME = 'dicarlo.Marques2020_blank'"
   ]
  },
  {
   "cell_type": "code",
   "execution_count": 3,
   "metadata": {},
   "outputs": [
    {
     "name": "stderr",
     "output_type": "stream",
     "text": [
      "alexnet is accessed again and reloaded\n"
     ]
    }
   ],
   "source": [
    "model, optimization_test_responses, standard_test_responses = load_model_and_BO_stimulus(BO_OPTIM_NAME=BO_OPTIM_NAME, optim_test_dir=optim_test_dir,\n",
    "            BO_STIM_NAME=BO_STIM_NAME, standard_test_dir=standard_test_dir)"
   ]
  },
  {
   "cell_type": "code",
   "execution_count": 19,
   "metadata": {},
   "outputs": [
    {
     "ename": "TypeError",
     "evalue": "unravel_index() takes from 1 to 4 positional arguments but 5 were given",
     "output_type": "error",
     "traceback": [
      "\u001b[0;31m---------------------------------------------------------------------------\u001b[0m",
      "\u001b[0;31mTypeError\u001b[0m                                 Traceback (most recent call last)",
      "\u001b[0;32m<ipython-input-19-ed692c8e517a>\u001b[0m in \u001b[0;36m<module>\u001b[0;34m\u001b[0m\n\u001b[0;32m----> 1\u001b[0;31m \u001b[0mBO_optimization_and_standard_test\u001b[0m\u001b[0;34m(\u001b[0m\u001b[0;36m0\u001b[0m\u001b[0;34m,\u001b[0m \u001b[0moptimization_test_responses\u001b[0m\u001b[0;34m=\u001b[0m\u001b[0moptimization_test_responses\u001b[0m\u001b[0;34m,\u001b[0m \u001b[0mstandard_test_responses\u001b[0m\u001b[0;34m=\u001b[0m\u001b[0mstandard_test_responses\u001b[0m\u001b[0;34m)\u001b[0m\u001b[0;34m\u001b[0m\u001b[0;34m\u001b[0m\u001b[0m\n\u001b[0m",
      "\u001b[0;32m~/brain-score/packaging/dicarlo/cirincione/cirincione2022_zhou2000_TESTING.py\u001b[0m in \u001b[0;36mBO_optimization_and_standard_test\u001b[0;34m(neuroid_no, optimization_test_responses, standard_test_responses)\u001b[0m\n\u001b[1;32m     63\u001b[0m     \u001b[0mopt_pref_color\u001b[0m\u001b[0;34m,\u001b[0m \u001b[0mopt_pref_orientation\u001b[0m\u001b[0;34m,\u001b[0m \u001b[0mopt_pref_width\u001b[0m\u001b[0;34m,\u001b[0m \u001b[0mopt_pref_length\u001b[0m \u001b[0;34m=\u001b[0m\u001b[0;31m\\\u001b[0m\u001b[0;34m\u001b[0m\u001b[0;34m\u001b[0m\u001b[0m\n\u001b[1;32m     64\u001b[0m         np.unravel_index(np.argmax(opt_response[neuroid_no, :, :, :, :]), \n\u001b[0;32m---> 65\u001b[0;31m         (len(opt_color), len(opt_orientation), len(opt_width), len(opt_length)))\n\u001b[0m\u001b[1;32m     66\u001b[0m    \u001b[0;31m# opt_ori_curve = opt_response[neuroid_no, opt_pref_color, :, opt_pref_width, opt_pref_length]\u001b[0m\u001b[0;34m\u001b[0m\u001b[0;34m\u001b[0m\u001b[0;34m\u001b[0m\u001b[0m\n\u001b[1;32m     67\u001b[0m    \u001b[0;31m# plt.plot(opt_ori_curve)\u001b[0m\u001b[0;34m\u001b[0m\u001b[0;34m\u001b[0m\u001b[0;34m\u001b[0m\u001b[0m\n",
      "\u001b[0;32m<__array_function__ internals>\u001b[0m in \u001b[0;36munravel_index\u001b[0;34m(*args, **kwargs)\u001b[0m\n",
      "\u001b[0;31mTypeError\u001b[0m: unravel_index() takes from 1 to 4 positional arguments but 5 were given"
     ]
    }
   ],
   "source": [
    "BO_optimization_and_standard_test(0, optimization_test_responses=optimization_test_responses, standard_test_responses=standard_test_responses)"
   ]
  }
 ],
 "metadata": {
  "kernelspec": {
   "display_name": "Python 3.7.13 ('base')",
   "language": "python",
   "name": "python3"
  },
  "language_info": {
   "codemirror_mode": {
    "name": "ipython",
    "version": 3
   },
   "file_extension": ".py",
   "mimetype": "text/x-python",
   "name": "python",
   "nbconvert_exporter": "python",
   "pygments_lexer": "ipython3",
   "version": "3.7.13"
  },
  "orig_nbformat": 4,
  "vscode": {
   "interpreter": {
    "hash": "b45cf1a0e83996f7fbf806ae59dce41e174b2e0f35f47dfa31334161ddd5e1da"
   }
  }
 },
 "nbformat": 4,
 "nbformat_minor": 2
}
